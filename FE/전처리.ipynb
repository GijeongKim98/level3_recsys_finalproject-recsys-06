{
 "cells": [
  {
   "cell_type": "code",
   "execution_count": 1,
   "id": "f280fcc3",
   "metadata": {
    "ExecuteTime": {
     "end_time": "2023-07-18T09:34:26.686615Z",
     "start_time": "2023-07-18T09:34:26.281113Z"
    }
   },
   "outputs": [],
   "source": [
    "import pandas as pd\n",
    "import os\n",
    "import tqdm\n",
    "from copy import deepcopy"
   ]
  },
  {
   "cell_type": "code",
   "execution_count": 2,
   "id": "bd721d96",
   "metadata": {
    "ExecuteTime": {
     "end_time": "2023-07-18T09:34:29.159042Z",
     "start_time": "2023-07-18T09:34:26.792017Z"
    }
   },
   "outputs": [],
   "source": [
    "original_udf= pd.read_csv('./data/user_data.csv')\n",
    "original_pdf = pd.read_csv('./data/problem_data.csv')\n",
    "original_idf_list = [pd.read_csv('./interaction_tmp/'+filename) for filename in os.listdir('./interaction_tmp/')]"
   ]
  },
  {
   "cell_type": "code",
   "execution_count": null,
   "id": "07e305f7",
   "metadata": {},
   "outputs": [],
   "source": []
  },
  {
   "cell_type": "markdown",
   "id": "d9b2b02c",
   "metadata": {},
   "source": [
    "# Problem Process"
   ]
  },
  {
   "cell_type": "code",
   "execution_count": 3,
   "id": "83ae5dd1",
   "metadata": {
    "ExecuteTime": {
     "end_time": "2023-07-18T09:34:29.162949Z",
     "start_time": "2023-07-18T09:34:29.160414Z"
    }
   },
   "outputs": [],
   "source": [
    "pdf = original_pdf.copy()"
   ]
  },
  {
   "cell_type": "markdown",
   "id": "90e0818f",
   "metadata": {},
   "source": [
    "## 한국어/영어 문제 외 삭제"
   ]
  },
  {
   "cell_type": "code",
   "execution_count": 4,
   "id": "1f9e916d",
   "metadata": {
    "ExecuteTime": {
     "end_time": "2023-07-18T09:34:29.916410Z",
     "start_time": "2023-07-18T09:34:29.164112Z"
    }
   },
   "outputs": [],
   "source": [
    "result = []\n",
    "for index, info in pdf[['problemId','titles']].iterrows():\n",
    "    pid, titles = info\n",
    "    title_list = eval(titles)\n",
    "    for j in title_list:\n",
    "        language = j['language']\n",
    "        if language=='ko' or language=='en':\n",
    "            break\n",
    "    else:\n",
    "        result.append(pid)"
   ]
  },
  {
   "cell_type": "code",
   "execution_count": 5,
   "id": "3bf4ac07",
   "metadata": {
    "ExecuteTime": {
     "end_time": "2023-07-18T09:34:29.922920Z",
     "start_time": "2023-07-18T09:34:29.917678Z"
    }
   },
   "outputs": [],
   "source": [
    "pdf=pdf[pdf['problemId'].isin(result)==False]"
   ]
  },
  {
   "cell_type": "code",
   "execution_count": 6,
   "id": "a4b0e476",
   "metadata": {
    "ExecuteTime": {
     "end_time": "2023-07-18T09:34:29.928577Z",
     "start_time": "2023-07-18T09:34:29.924108Z"
    }
   },
   "outputs": [
    {
     "data": {
      "text/plain": [
       "(23714, 15)"
      ]
     },
     "execution_count": 6,
     "metadata": {},
     "output_type": "execute_result"
    }
   ],
   "source": [
    "pdf.shape"
   ]
  },
  {
   "cell_type": "markdown",
   "id": "c7e58dba",
   "metadata": {},
   "source": [
    "## isSolvble이 False인 문제 제거"
   ]
  },
  {
   "cell_type": "code",
   "execution_count": 7,
   "id": "a53c3cb9",
   "metadata": {
    "ExecuteTime": {
     "end_time": "2023-07-18T09:34:29.933409Z",
     "start_time": "2023-07-18T09:34:29.929621Z"
    }
   },
   "outputs": [],
   "source": [
    "pdf=pdf[pdf['isSolvable']==True]"
   ]
  },
  {
   "cell_type": "code",
   "execution_count": 8,
   "id": "8c79848d",
   "metadata": {
    "ExecuteTime": {
     "end_time": "2023-07-18T09:34:29.936979Z",
     "start_time": "2023-07-18T09:34:29.934389Z"
    }
   },
   "outputs": [
    {
     "data": {
      "text/plain": [
       "(23339, 15)"
      ]
     },
     "execution_count": 8,
     "metadata": {},
     "output_type": "execute_result"
    }
   ],
   "source": [
    "pdf.shape"
   ]
  },
  {
   "cell_type": "markdown",
   "id": "4a08ab42",
   "metadata": {},
   "source": [
    "## level 20초과, unrated 문제 제거"
   ]
  },
  {
   "cell_type": "code",
   "execution_count": 9,
   "id": "c0485496",
   "metadata": {
    "ExecuteTime": {
     "end_time": "2023-07-18T09:34:29.941895Z",
     "start_time": "2023-07-18T09:34:29.937993Z"
    }
   },
   "outputs": [],
   "source": [
    "pdf=pdf[(pdf['level']<21) & (pdf['level']>0)]"
   ]
  },
  {
   "cell_type": "code",
   "execution_count": 10,
   "id": "bf900096",
   "metadata": {
    "ExecuteTime": {
     "end_time": "2023-07-18T09:34:29.945775Z",
     "start_time": "2023-07-18T09:34:29.943015Z"
    }
   },
   "outputs": [
    {
     "data": {
      "text/plain": [
       "(15416, 15)"
      ]
     },
     "execution_count": 10,
     "metadata": {},
     "output_type": "execute_result"
    }
   ],
   "source": [
    "pdf.shape"
   ]
  },
  {
   "cell_type": "markdown",
   "id": "acfe269f",
   "metadata": {},
   "source": [
    "## givesNorating"
   ]
  },
  {
   "cell_type": "code",
   "execution_count": 11,
   "id": "98480791",
   "metadata": {
    "ExecuteTime": {
     "end_time": "2023-07-18T09:34:29.950351Z",
     "start_time": "2023-07-18T09:34:29.947055Z"
    }
   },
   "outputs": [],
   "source": [
    "pdf=pdf[pdf['givesNoRating']==False]"
   ]
  },
  {
   "cell_type": "code",
   "execution_count": 12,
   "id": "d760a50e",
   "metadata": {
    "ExecuteTime": {
     "end_time": "2023-07-18T09:34:29.954498Z",
     "start_time": "2023-07-18T09:34:29.951459Z"
    }
   },
   "outputs": [
    {
     "data": {
      "text/plain": [
       "(15347, 15)"
      ]
     },
     "execution_count": 12,
     "metadata": {},
     "output_type": "execute_result"
    }
   ],
   "source": [
    "pdf.shape"
   ]
  },
  {
   "cell_type": "markdown",
   "id": "627fc982",
   "metadata": {},
   "source": [
    "## tags"
   ]
  },
  {
   "cell_type": "code",
   "execution_count": 13,
   "id": "2c3ac215",
   "metadata": {
    "ExecuteTime": {
     "end_time": "2023-07-18T09:34:29.959994Z",
     "start_time": "2023-07-18T09:34:29.955794Z"
    }
   },
   "outputs": [],
   "source": [
    "pdf=pdf[pdf['tags']!='[]']"
   ]
  },
  {
   "cell_type": "code",
   "execution_count": 14,
   "id": "0cae3808",
   "metadata": {
    "ExecuteTime": {
     "end_time": "2023-07-18T09:34:29.963187Z",
     "start_time": "2023-07-18T09:34:29.960964Z"
    }
   },
   "outputs": [
    {
     "data": {
      "text/plain": [
       "(14844, 15)"
      ]
     },
     "execution_count": 14,
     "metadata": {},
     "output_type": "execute_result"
    }
   ],
   "source": [
    "pdf.shape"
   ]
  },
  {
   "cell_type": "markdown",
   "id": "da5922be",
   "metadata": {},
   "source": [
    "### 소분류 생성"
   ]
  },
  {
   "cell_type": "code",
   "execution_count": 15,
   "id": "0427673d",
   "metadata": {
    "ExecuteTime": {
     "end_time": "2023-07-18T09:34:31.413543Z",
     "start_time": "2023-07-18T09:34:29.964217Z"
    }
   },
   "outputs": [],
   "source": [
    "tag = pd.DataFrame(columns=['tag_id','key','name'])\n",
    "tag_set=set()\n",
    "tag_problem=dict()\n",
    "for i in pdf[['problemId','tags']].iterrows():\n",
    "    tag_list=eval(i[1]['tags'])\n",
    "    for j in tag_list:\n",
    "        key = j['key']\n",
    "        if key not in tag_problem:\n",
    "            tag_problem[key]=set()\n",
    "        tag_problem[key].add(i[1]['problemId'])\n",
    "        if key in tag_set:\n",
    "            continue\n",
    "        tag_set.add(key)\n",
    "        line = [len(tag_set),key]\n",
    "        for k in j['displayNames']:\n",
    "            if k['language']=='ko':\n",
    "                line.append(k['name'])\n",
    "                break\n",
    "        tag = pd.concat([tag, pd.DataFrame(line, index=tag.columns, columns=[len(tag)]).T])"
   ]
  },
  {
   "cell_type": "markdown",
   "id": "046dbbe1",
   "metadata": {},
   "source": [
    "### 로그 기반 중분류 생성(소분류에서 선택)"
   ]
  },
  {
   "cell_type": "code",
   "execution_count": 16,
   "id": "58b71567",
   "metadata": {
    "ExecuteTime": {
     "end_time": "2023-07-18T09:34:31.423921Z",
     "start_time": "2023-07-18T09:34:31.414531Z"
    }
   },
   "outputs": [],
   "source": [
    "log=[]\n",
    "with open('./log.txt','r') as f:\n",
    "    for line in f.read().replace('\\n',' ').split('target : ')[1:]:\n",
    "        if '(' in line:\n",
    "            line = line[:line.find('(')]+line[line.find(')')+1:]\n",
    "        else:\n",
    "            line\n",
    "        log.append(line)\n",
    "log=list(map(lambda x : x.split(), log))\n",
    "log=[line for line in log if line[-1]!='4']"
   ]
  },
  {
   "cell_type": "code",
   "execution_count": 17,
   "id": "bdf2eec5",
   "metadata": {
    "ExecuteTime": {
     "end_time": "2023-07-18T09:34:31.427245Z",
     "start_time": "2023-07-18T09:34:31.424925Z"
    }
   },
   "outputs": [],
   "source": [
    "# tmp = deepcopy(tag_problem)\n",
    "for line in log:\n",
    "    key = line[0]\n",
    "    if key not in tag_problem:\n",
    "        continue\n",
    "    if len(line)>2:\n",
    "        for key2 in line[2:-1]:\n",
    "            tag_problem[key2] |= tag_problem[key]\n",
    "    tag_problem.pop(key)    "
   ]
  },
  {
   "cell_type": "markdown",
   "id": "ae56f259",
   "metadata": {},
   "source": [
    "### 대분류 생성(tag rule 적용)"
   ]
  },
  {
   "cell_type": "code",
   "execution_count": 18,
   "id": "059192c0",
   "metadata": {
    "ExecuteTime": {
     "end_time": "2023-07-18T09:34:31.432952Z",
     "start_time": "2023-07-18T09:34:31.428226Z"
    }
   },
   "outputs": [],
   "source": [
    "middle_tag_problem = tag_problem\n",
    "big_tag_problem=dict()\n",
    "big_tag_problem['tree'] = middle_tag_problem['trees']\n",
    "\n",
    "big_tag_problem['datastructure'] = middle_tag_problem['segtree'] \n",
    "big_tag_problem['datastructure'] |= middle_tag_problem['stack']\n",
    "big_tag_problem['datastructure'] |= middle_tag_problem['priority_queue']\n",
    "big_tag_problem['datastructure'] |= middle_tag_problem['queue']\n",
    "big_tag_problem['datastructure'] |= middle_tag_problem['priority_queue']\n",
    "big_tag_problem['datastructure'] |= middle_tag_problem['deque']\n",
    "big_tag_problem['datastructure'] |= middle_tag_problem['disjoint_set']\n",
    "big_tag_problem['datastructure'] |= middle_tag_problem['two_pointer']\n",
    "\n",
    "big_tag_problem['graph'] = middle_tag_problem['graphs'] \n",
    "big_tag_problem['graph'] |= middle_tag_problem['bfs']\n",
    "big_tag_problem['graph'] |= middle_tag_problem['dfs']\n",
    "\n",
    "big_tag_problem['hash'] = middle_tag_problem['tree_set'] \n",
    "big_tag_problem['hash'] |= middle_tag_problem['hashing']\n",
    "\n",
    "big_tag_problem['search'] = middle_tag_problem['binary_search']\n",
    "big_tag_problem['search'] |= middle_tag_problem['ternary_search']\n",
    "big_tag_problem['search'] |= middle_tag_problem['parametric_search']\n",
    "\n",
    "big_tag_problem['dp'] = middle_tag_problem['dp']\n",
    "big_tag_problem['greedy'] = middle_tag_problem['greedy']\n",
    "big_tag_problem['math'] = middle_tag_problem['math']\n",
    "\n",
    "big_tag_problem['bruteforce'] = middle_tag_problem['bruteforcing']\n",
    "big_tag_problem['bruteforce'] |= middle_tag_problem['mitm']\n",
    "\n",
    "big_tag_problem['recursion'] = middle_tag_problem['recursion']\n",
    "big_tag_problem['recursion'] |= middle_tag_problem['divide_and_conquer']\n",
    "\n",
    "big_tag_problem['basics'] = middle_tag_problem['sorting']\n",
    "big_tag_problem['basics'] |= middle_tag_problem['implementation']\n",
    "big_tag_problem['basics'] |= middle_tag_problem['string']"
   ]
  },
  {
   "cell_type": "code",
   "execution_count": 19,
   "id": "687c2d81",
   "metadata": {
    "ExecuteTime": {
     "end_time": "2023-07-18T09:34:31.451810Z",
     "start_time": "2023-07-18T09:34:31.434253Z"
    }
   },
   "outputs": [
    {
     "name": "stderr",
     "output_type": "stream",
     "text": [
      "/tmp/ipykernel_48/4046302140.py:2: SettingWithCopyWarning: \n",
      "A value is trying to be set on a copy of a slice from a DataFrame.\n",
      "Try using .loc[row_indexer,col_indexer] = value instead\n",
      "\n",
      "See the caveats in the documentation: https://pandas.pydata.org/pandas-docs/stable/user_guide/indexing.html#returning-a-view-versus-a-copy\n",
      "  final_tag_df['big_tag']=0\n"
     ]
    }
   ],
   "source": [
    "final_tag_df = tag[tag['key'].isin(middle_tag_problem.keys())]\n",
    "final_tag_df['big_tag']=0\n",
    "\n",
    "final_tag_df.loc[final_tag_df[final_tag_df['key']=='trees'].index,'big_tag']='tree'\n",
    "\n",
    "final_tag_df.loc[final_tag_df[final_tag_df['key']=='segtree'].index,'big_tag']='datastructure'\n",
    "final_tag_df.loc[final_tag_df[final_tag_df['key']=='stack'].index,'big_tag']='datastructure'\n",
    "final_tag_df.loc[final_tag_df[final_tag_df['key']=='priority_queue'].index,'big_tag']='datastructure'\n",
    "final_tag_df.loc[final_tag_df[final_tag_df['key']=='queue'].index,'big_tag']='datastructure'\n",
    "final_tag_df.loc[final_tag_df[final_tag_df['key']=='priority_queue'].index,'big_tag']='datastructure'\n",
    "final_tag_df.loc[final_tag_df[final_tag_df['key']=='deque'].index,'big_tag']='datastructure'\n",
    "final_tag_df.loc[final_tag_df[final_tag_df['key']=='disjoint_set'].index,'big_tag']='datastructure'\n",
    "final_tag_df.loc[final_tag_df[final_tag_df['key']=='two_pointer'].index,'big_tag']='datastructure'\n",
    "final_tag_df.loc[final_tag_df[final_tag_df['key']=='graphs'].index,'big_tag']='graph'\n",
    "final_tag_df.loc[final_tag_df[final_tag_df['key']=='bfs'].index,'big_tag']='graph'\n",
    "final_tag_df.loc[final_tag_df[final_tag_df['key']=='dfs'].index,'big_tag']='graph'\n",
    "final_tag_df.loc[final_tag_df[final_tag_df['key']=='tree_set'].index,'big_tag']='hash'\n",
    "final_tag_df.loc[final_tag_df[final_tag_df['key']=='hashing'].index,'big_tag']='hash'\n",
    "final_tag_df.loc[final_tag_df[final_tag_df['key']=='binary_search'].index,'big_tag']='search'\n",
    "final_tag_df.loc[final_tag_df[final_tag_df['key']=='ternary_search'].index,'big_tag']='search'\n",
    "final_tag_df.loc[final_tag_df[final_tag_df['key']=='parametric_search'].index,'big_tag']='search'\n",
    "final_tag_df.loc[final_tag_df[final_tag_df['key']=='dp'].index,'big_tag']='dp'\n",
    "final_tag_df.loc[final_tag_df[final_tag_df['key']=='greedy'].index,'big_tag']='greedy'\n",
    "final_tag_df.loc[final_tag_df[final_tag_df['key']=='math'].index,'big_tag']='math'\n",
    "final_tag_df.loc[final_tag_df[final_tag_df['key']=='bruteforcing'].index,'big_tag']='bruteforce'\n",
    "final_tag_df.loc[final_tag_df[final_tag_df['key']=='mitm'].index,'big_tag']='bruteforce'\n",
    "final_tag_df.loc[final_tag_df[final_tag_df['key']=='recursion'].index,'big_tag']='recursion'\n",
    "final_tag_df.loc[final_tag_df[final_tag_df['key']=='divide_and_conquer'].index,'big_tag']='recursion'\n",
    "final_tag_df.loc[final_tag_df[final_tag_df['key']=='sorting'].index,'big_tag']='basics'\n",
    "final_tag_df.loc[final_tag_df[final_tag_df['key']=='implementation'].index,'big_tag']='basics'\n",
    "final_tag_df.loc[final_tag_df[final_tag_df['key']=='string'].index,'big_tag']='basics'"
   ]
  },
  {
   "cell_type": "code",
   "execution_count": 20,
   "id": "4c4d9dc7",
   "metadata": {
    "ExecuteTime": {
     "end_time": "2023-07-18T09:34:31.454887Z",
     "start_time": "2023-07-18T09:34:31.452859Z"
    }
   },
   "outputs": [
    {
     "name": "stderr",
     "output_type": "stream",
     "text": [
      "/tmp/ipykernel_48/2801281359.py:1: SettingWithCopyWarning: \n",
      "A value is trying to be set on a copy of a slice from a DataFrame.\n",
      "Try using .loc[row_indexer,col_indexer] = value instead\n",
      "\n",
      "See the caveats in the documentation: https://pandas.pydata.org/pandas-docs/stable/user_guide/indexing.html#returning-a-view-versus-a-copy\n",
      "  final_tag_df['tag_id']=range(len(final_tag_df))\n"
     ]
    }
   ],
   "source": [
    "final_tag_df['tag_id']=range(len(final_tag_df))"
   ]
  },
  {
   "cell_type": "code",
   "execution_count": 21,
   "id": "fb43e5d6",
   "metadata": {
    "ExecuteTime": {
     "end_time": "2023-07-18T09:34:31.458935Z",
     "start_time": "2023-07-18T09:34:31.455925Z"
    }
   },
   "outputs": [],
   "source": [
    "final_tag_df=final_tag_df.reset_index().drop('index',axis=1)"
   ]
  },
  {
   "cell_type": "code",
   "execution_count": 22,
   "id": "159a72a0",
   "metadata": {
    "ExecuteTime": {
     "end_time": "2023-07-18T09:34:31.741742Z",
     "start_time": "2023-07-18T09:34:31.736290Z"
    }
   },
   "outputs": [],
   "source": [
    "final_tag_df.to_csv('./tag_ver2.csv',index=False)"
   ]
  },
  {
   "cell_type": "markdown",
   "id": "dc700367",
   "metadata": {},
   "source": [
    "### 분류된 tag에 없는 문제 제거"
   ]
  },
  {
   "cell_type": "code",
   "execution_count": 23,
   "id": "a5cd96f3",
   "metadata": {
    "ExecuteTime": {
     "end_time": "2023-07-18T09:34:33.747122Z",
     "start_time": "2023-07-18T09:34:33.719986Z"
    }
   },
   "outputs": [],
   "source": [
    "problem_set = eval('|'.join([str(i) for i in big_tag_problem.values()]))\n",
    "pdf=pdf[pdf['problemId'].isin(problem_set)]"
   ]
  },
  {
   "cell_type": "markdown",
   "id": "4d930faa",
   "metadata": {},
   "source": [
    "### problem의 중분류, 대분류 csv생성"
   ]
  },
  {
   "cell_type": "code",
   "execution_count": 24,
   "id": "a745b8fa",
   "metadata": {
    "ExecuteTime": {
     "end_time": "2023-07-18T09:34:43.863376Z",
     "start_time": "2023-07-18T09:34:34.266735Z"
    }
   },
   "outputs": [],
   "source": [
    "tmp=pd.DataFrame()\n",
    "for k,v in middle_tag_problem.items():\n",
    "    for pid in v:\n",
    "        tmp=pd.concat([tmp, pd.DataFrame([pid, k]).T])\n",
    "tmp.columns=['problem_id','middle_tag']\n",
    "tmp.sort_values('problem_id',inplace=True)\n",
    "tmp.index=range(len(tmp))"
   ]
  },
  {
   "cell_type": "code",
   "execution_count": 25,
   "id": "12e4c47e",
   "metadata": {
    "ExecuteTime": {
     "end_time": "2023-07-18T09:34:43.915775Z",
     "start_time": "2023-07-18T09:34:43.864375Z"
    }
   },
   "outputs": [],
   "source": [
    "problem_mtag = pd.get_dummies(tmp, columns=['middle_tag'],prefix_sep='',prefix='').groupby('problem_id').sum().reset_index()\n",
    "problem_mtag.to_csv('./problem_mtag_ver1.csv',index=False)"
   ]
  },
  {
   "cell_type": "code",
   "execution_count": 26,
   "id": "0c5481a9",
   "metadata": {
    "ExecuteTime": {
     "end_time": "2023-07-18T09:34:53.401195Z",
     "start_time": "2023-07-18T09:34:43.916912Z"
    }
   },
   "outputs": [],
   "source": [
    "tmp=pd.DataFrame()\n",
    "for k,v in middle_tag_problem.items():\n",
    "    for pid in v:\n",
    "        tmp=pd.concat([tmp, pd.DataFrame([pid, k]).T])\n",
    "tmp.columns=['problem_id','big_tag']\n",
    "tmp.sort_values('problem_id',inplace=True)\n",
    "tmp.index=range(len(tmp))"
   ]
  },
  {
   "cell_type": "code",
   "execution_count": 27,
   "id": "774e6b21",
   "metadata": {
    "ExecuteTime": {
     "end_time": "2023-07-18T09:34:53.454460Z",
     "start_time": "2023-07-18T09:34:53.402767Z"
    }
   },
   "outputs": [],
   "source": [
    "problem_mtag = pd.get_dummies(tmp, columns=['big_tag'],prefix_sep='',prefix='').groupby('problem_id').sum().reset_index()\n",
    "problem_mtag.to_csv('./problem_btag_ver1.csv',index=False)"
   ]
  },
  {
   "cell_type": "markdown",
   "id": "f67c6c1a",
   "metadata": {},
   "source": [
    "## column drop & rename"
   ]
  },
  {
   "cell_type": "code",
   "execution_count": 28,
   "id": "1252b317",
   "metadata": {
    "ExecuteTime": {
     "end_time": "2023-07-18T09:34:53.458291Z",
     "start_time": "2023-07-18T09:34:53.455602Z"
    }
   },
   "outputs": [],
   "source": [
    "pdf.drop(['titleKo','titles','isSolvable','isPartial','givesNoRating'\n",
    "              ,'isLevelLocked','official','tags','metadata'], inplace=True, axis=1)"
   ]
  },
  {
   "cell_type": "code",
   "execution_count": 29,
   "id": "2db2acaf",
   "metadata": {
    "ExecuteTime": {
     "end_time": "2023-07-18T09:34:53.461539Z",
     "start_time": "2023-07-18T09:34:53.459248Z"
    }
   },
   "outputs": [],
   "source": [
    "pdf.rename(columns={\n",
    "    \"problemId\":'problem_id','acceptedUserCount':'correct_users',\n",
    "    'votedUserCount':'voted_users','averageTries':'average_tries'\n",
    "},inplace=True)"
   ]
  },
  {
   "cell_type": "markdown",
   "id": "aa3ae91b",
   "metadata": {},
   "source": [
    "# User & Interaction Process"
   ]
  },
  {
   "cell_type": "markdown",
   "id": "574ef62e",
   "metadata": {},
   "source": [
    "## user"
   ]
  },
  {
   "cell_type": "code",
   "execution_count": 30,
   "id": "e933c242",
   "metadata": {
    "ExecuteTime": {
     "end_time": "2023-07-18T09:34:53.464538Z",
     "start_time": "2023-07-18T09:34:53.462588Z"
    }
   },
   "outputs": [],
   "source": [
    "udf = original_udf"
   ]
  },
  {
   "cell_type": "markdown",
   "id": "147ae8ac",
   "metadata": {},
   "source": [
    "### 중복 유저 drop"
   ]
  },
  {
   "cell_type": "code",
   "execution_count": 31,
   "id": "1dff5c25",
   "metadata": {
    "ExecuteTime": {
     "end_time": "2023-07-18T09:34:53.533466Z",
     "start_time": "2023-07-18T09:34:53.465514Z"
    }
   },
   "outputs": [],
   "source": [
    "udf = udf.drop_duplicates()"
   ]
  },
  {
   "cell_type": "markdown",
   "id": "8d828e36",
   "metadata": {},
   "source": [
    "### 푼 문제가 없는 유저 삭제"
   ]
  },
  {
   "cell_type": "code",
   "execution_count": 32,
   "id": "6ca20e78",
   "metadata": {
    "ExecuteTime": {
     "end_time": "2023-07-18T09:34:53.547920Z",
     "start_time": "2023-07-18T09:34:53.534851Z"
    }
   },
   "outputs": [],
   "source": [
    "udf=udf[udf['solvedCount']!=0]"
   ]
  },
  {
   "cell_type": "markdown",
   "id": "3cb8f058",
   "metadata": {},
   "source": [
    "### rating이 0인 유저 삭제"
   ]
  },
  {
   "cell_type": "code",
   "execution_count": 33,
   "id": "74909d93",
   "metadata": {
    "ExecuteTime": {
     "end_time": "2023-07-18T09:34:53.560481Z",
     "start_time": "2023-07-18T09:34:53.549370Z"
    }
   },
   "outputs": [],
   "source": [
    "udf=udf[udf['rating']!=0]"
   ]
  },
  {
   "cell_type": "markdown",
   "id": "2780430f",
   "metadata": {},
   "source": [
    "### 관리자 제거"
   ]
  },
  {
   "cell_type": "code",
   "execution_count": 34,
   "id": "67bbe153",
   "metadata": {
    "ExecuteTime": {
     "end_time": "2023-07-18T09:34:53.576159Z",
     "start_time": "2023-07-18T09:34:53.561621Z"
    }
   },
   "outputs": [],
   "source": [
    "udf = udf[udf['proUntil']!='9999-12-31T00:00:00.000Z']"
   ]
  },
  {
   "cell_type": "markdown",
   "id": "0346a0d3",
   "metadata": {},
   "source": [
    "### User Column drop & rename"
   ]
  },
  {
   "cell_type": "code",
   "execution_count": 35,
   "id": "b7d27077",
   "metadata": {
    "ExecuteTime": {
     "end_time": "2023-07-18T09:34:53.583019Z",
     "start_time": "2023-07-18T09:34:53.577295Z"
    }
   },
   "outputs": [],
   "source": [
    "udf.drop(['bio', 'badgeId', 'backgroundId', 'profileImageUrl',\n",
    " 'voteCount', 'class', 'classDecoration',\n",
    "'tier', 'rating', 'ratingByProblemsSum',\n",
    "'ratingByClass', 'ratingBySolvedCount', 'ratingByVoteCount',\n",
    "'coins', 'stardusts', 'bannedUntil','proUntil',\n",
    "'rank', 'isRival', 'isReverseRival'], inplace=True, axis=1)"
   ]
  },
  {
   "cell_type": "code",
   "execution_count": 36,
   "id": "5064be1d",
   "metadata": {
    "ExecuteTime": {
     "end_time": "2023-07-18T09:34:53.586603Z",
     "start_time": "2023-07-18T09:34:53.584073Z"
    }
   },
   "outputs": [],
   "source": [
    "udf.rename(columns={\n",
    "\"handle\":'user_id','solvedCount':'solved_count',\n",
    "'rivalCount':'follower_count','reverseRivalCount':'following_count',\n",
    "'joinedAt':'joined_date','maxStreak':'max_streak'\n",
    "},inplace=True)"
   ]
  },
  {
   "cell_type": "markdown",
   "id": "286c91a0",
   "metadata": {},
   "source": [
    "## Interaction Process"
   ]
  },
  {
   "cell_type": "code",
   "execution_count": 37,
   "id": "1759c21f",
   "metadata": {
    "ExecuteTime": {
     "end_time": "2023-07-18T09:34:53.720682Z",
     "start_time": "2023-07-18T09:34:53.587930Z"
    }
   },
   "outputs": [],
   "source": [
    "idf= pd.concat(original_idf_list)"
   ]
  },
  {
   "cell_type": "code",
   "execution_count": 38,
   "id": "5b48c6a2",
   "metadata": {
    "ExecuteTime": {
     "end_time": "2023-07-18T09:34:53.724038Z",
     "start_time": "2023-07-18T09:34:53.721854Z"
    }
   },
   "outputs": [
    {
     "data": {
      "text/plain": [
       "(12249255, 3)"
      ]
     },
     "execution_count": 38,
     "metadata": {},
     "output_type": "execute_result"
    }
   ],
   "source": [
    "idf.shape"
   ]
  },
  {
   "cell_type": "code",
   "execution_count": 39,
   "id": "7433e07b",
   "metadata": {
    "ExecuteTime": {
     "end_time": "2023-07-18T09:34:53.726802Z",
     "start_time": "2023-07-18T09:34:53.724863Z"
    }
   },
   "outputs": [],
   "source": [
    "idf.columns=['user_id','problem_id','answer_code']"
   ]
  },
  {
   "cell_type": "markdown",
   "id": "05568701",
   "metadata": {},
   "source": [
    "### level 추가 및 problem data에 없는 문제 제거"
   ]
  },
  {
   "cell_type": "code",
   "execution_count": 40,
   "id": "203916e2",
   "metadata": {
    "ExecuteTime": {
     "end_time": "2023-07-18T09:34:54.733380Z",
     "start_time": "2023-07-18T09:34:53.727600Z"
    }
   },
   "outputs": [],
   "source": [
    "idf = pd.merge(idf, pdf[['problem_id','level']], how='right')"
   ]
  },
  {
   "cell_type": "code",
   "execution_count": 41,
   "id": "2f4fd38d",
   "metadata": {
    "ExecuteTime": {
     "end_time": "2023-07-18T09:34:59.239482Z",
     "start_time": "2023-07-18T09:34:54.734679Z"
    }
   },
   "outputs": [],
   "source": [
    "idf = idf.sort_values(['user_id','level','problem_id','answer_code'])"
   ]
  },
  {
   "cell_type": "code",
   "execution_count": 42,
   "id": "99b9ed9e",
   "metadata": {
    "ExecuteTime": {
     "end_time": "2023-07-18T09:34:59.243133Z",
     "start_time": "2023-07-18T09:34:59.240537Z"
    }
   },
   "outputs": [
    {
     "data": {
      "text/plain": [
       "(11916342, 4)"
      ]
     },
     "execution_count": 42,
     "metadata": {},
     "output_type": "execute_result"
    }
   ],
   "source": [
    "idf.shape"
   ]
  },
  {
   "cell_type": "code",
   "execution_count": 43,
   "id": "95a94525",
   "metadata": {
    "ExecuteTime": {
     "end_time": "2023-07-18T09:35:01.316567Z",
     "start_time": "2023-07-18T09:34:59.244359Z"
    }
   },
   "outputs": [],
   "source": [
    "idf = idf.drop_duplicates(keep='last')"
   ]
  },
  {
   "cell_type": "code",
   "execution_count": 44,
   "id": "579c0141",
   "metadata": {
    "ExecuteTime": {
     "end_time": "2023-07-18T09:35:02.193450Z",
     "start_time": "2023-07-18T09:35:01.317473Z"
    }
   },
   "outputs": [],
   "source": [
    "idf.dropna(inplace=True)"
   ]
  },
  {
   "cell_type": "code",
   "execution_count": 45,
   "id": "bdc56740",
   "metadata": {
    "ExecuteTime": {
     "end_time": "2023-07-18T09:35:02.196929Z",
     "start_time": "2023-07-18T09:35:02.194703Z"
    }
   },
   "outputs": [
    {
     "data": {
      "text/plain": [
       "(11908064, 4)"
      ]
     },
     "execution_count": 45,
     "metadata": {},
     "output_type": "execute_result"
    }
   ],
   "source": [
    "idf.shape"
   ]
  },
  {
   "cell_type": "markdown",
   "id": "260e97d8",
   "metadata": {
    "ExecuteTime": {
     "end_time": "2023-07-18T06:37:15.997718Z",
     "start_time": "2023-07-18T06:36:50.253445Z"
    }
   },
   "source": [
    "## user 통일"
   ]
  },
  {
   "cell_type": "code",
   "execution_count": 46,
   "id": "46a0d976",
   "metadata": {
    "ExecuteTime": {
     "end_time": "2023-07-18T09:35:02.446980Z",
     "start_time": "2023-07-18T09:35:02.198977Z"
    }
   },
   "outputs": [],
   "source": [
    "user_list = set(idf['user_id'].unique()) & set(udf['user_id'].unique())"
   ]
  },
  {
   "cell_type": "code",
   "execution_count": 47,
   "id": "53e8d59f",
   "metadata": {
    "ExecuteTime": {
     "end_time": "2023-07-18T09:35:02.450581Z",
     "start_time": "2023-07-18T09:35:02.448017Z"
    }
   },
   "outputs": [
    {
     "data": {
      "text/plain": [
       "75442"
      ]
     },
     "execution_count": 47,
     "metadata": {},
     "output_type": "execute_result"
    }
   ],
   "source": [
    "len(user_list)"
   ]
  },
  {
   "cell_type": "code",
   "execution_count": 48,
   "id": "a6e59ed6",
   "metadata": {
    "ExecuteTime": {
     "end_time": "2023-07-18T09:35:02.756874Z",
     "start_time": "2023-07-18T09:35:02.452018Z"
    }
   },
   "outputs": [],
   "source": [
    "idf=idf[idf['user_id'].isin(user_list)]\n",
    "udf=udf[udf['user_id'].isin(user_list)]"
   ]
  },
  {
   "cell_type": "code",
   "execution_count": 49,
   "id": "5be43883",
   "metadata": {
    "ExecuteTime": {
     "end_time": "2023-07-18T09:35:14.285512Z",
     "start_time": "2023-07-18T09:35:02.757718Z"
    }
   },
   "outputs": [],
   "source": [
    "idf.to_csv('./data/interaction_ver2.csv',index=False)\n",
    "udf.to_csv('./data/user_ver4.csv',index=False)"
   ]
  },
  {
   "cell_type": "markdown",
   "id": "52f348bf",
   "metadata": {},
   "source": [
    "# middle_tag_rating"
   ]
  },
  {
   "cell_type": "code",
   "execution_count": 50,
   "id": "f832888f",
   "metadata": {
    "ExecuteTime": {
     "end_time": "2023-07-18T09:35:14.308097Z",
     "start_time": "2023-07-18T09:35:14.286562Z"
    }
   },
   "outputs": [],
   "source": [
    "tmp = pd.merge(problem_mtag, pdf[['problem_id','level']])\n",
    "for col in tmp.columns[1:-1]:\n",
    "    tmp[col] *= tmp['level']**(0.9 +0.02*tmp['level'])"
   ]
  },
  {
   "cell_type": "code",
   "execution_count": 51,
   "id": "ed4974fb",
   "metadata": {
    "ExecuteTime": {
     "end_time": "2023-07-18T09:35:16.224634Z",
     "start_time": "2023-07-18T09:35:14.309189Z"
    }
   },
   "outputs": [],
   "source": [
    "tmp=pd.merge(idf[idf['answer_code']==1], tmp, on='problem_id')"
   ]
  },
  {
   "cell_type": "code",
   "execution_count": 52,
   "id": "7d54e04e",
   "metadata": {
    "ExecuteTime": {
     "end_time": "2023-07-18T09:35:16.747213Z",
     "start_time": "2023-07-18T09:35:16.225555Z"
    }
   },
   "outputs": [],
   "source": [
    "tmp.drop(['problem_id','answer_code','level_y','level_x'],inplace=True, axis=1)"
   ]
  },
  {
   "cell_type": "code",
   "execution_count": 100,
   "id": "c3b15149",
   "metadata": {
    "ExecuteTime": {
     "end_time": "2023-07-18T09:08:29.081956Z",
     "start_time": "2023-07-18T09:08:29.075423Z"
    }
   },
   "outputs": [
    {
     "data": {
      "text/plain": [
       "Index(['bfs', 'binary_search', 'bruteforcing', 'deque', 'dfs', 'disjoint_set',\n",
       "       'divide_and_conquer', 'dp', 'graphs', 'greedy', 'hashing',\n",
       "       'implementation', 'math', 'mitm', 'parametric_search', 'priority_queue',\n",
       "       'queue', 'recursion', 'segtree', 'sorting', 'stack', 'string',\n",
       "       'ternary_search', 'tree_set', 'trees', 'two_pointer'],\n",
       "      dtype='object')"
      ]
     },
     "execution_count": 100,
     "metadata": {},
     "output_type": "execute_result"
    }
   ],
   "source": []
  },
  {
   "cell_type": "code",
   "execution_count": 53,
   "id": "a115086d",
   "metadata": {
    "ExecuteTime": {
     "end_time": "2023-07-18T09:37:49.198461Z",
     "start_time": "2023-07-18T09:37:49.196396Z"
    }
   },
   "outputs": [],
   "source": [
    "def top(df, n=30):\n",
    "    tag_list = [df[tag_name].sort_values(ascending=False)[:n].sum() for tag_name in problem_mtag.columns[1:]]\n",
    "    return pd.DataFrame(tag_list,index=problem_mtag.columns[1:]).T"
   ]
  },
  {
   "cell_type": "code",
   "execution_count": 54,
   "id": "3c09de86",
   "metadata": {
    "ExecuteTime": {
     "end_time": "2023-07-18T09:41:50.227961Z",
     "start_time": "2023-07-18T09:37:52.552248Z"
    }
   },
   "outputs": [],
   "source": [
    "user_rating_middle = tmp.groupby('user_id').apply(top)"
   ]
  },
  {
   "cell_type": "code",
   "execution_count": 62,
   "id": "db6c997b",
   "metadata": {
    "ExecuteTime": {
     "end_time": "2023-07-18T09:43:06.263631Z",
     "start_time": "2023-07-18T09:43:06.248531Z"
    }
   },
   "outputs": [],
   "source": [
    "user_rating_middle=user_rating_middle.reset_index().drop('level_1',axis=1).set_index('user_id')"
   ]
  },
  {
   "cell_type": "code",
   "execution_count": 71,
   "id": "0a33700a",
   "metadata": {
    "ExecuteTime": {
     "end_time": "2023-07-18T09:58:58.077407Z",
     "start_time": "2023-07-18T09:58:57.144995Z"
    }
   },
   "outputs": [],
   "source": [
    "user_rating_middle.to_csv('./user_rating_middle_ver1.csv',index=False)"
   ]
  },
  {
   "cell_type": "markdown",
   "id": "a5345176",
   "metadata": {},
   "source": [
    "# big_tag_rating"
   ]
  },
  {
   "cell_type": "code",
   "execution_count": 65,
   "id": "02ebeb33",
   "metadata": {
    "ExecuteTime": {
     "end_time": "2023-07-18T09:43:21.370545Z",
     "start_time": "2023-07-18T09:43:21.368473Z"
    }
   },
   "outputs": [],
   "source": [
    "user_rating_big=pd.DataFrame()"
   ]
  },
  {
   "cell_type": "code",
   "execution_count": 66,
   "id": "166a6d0d",
   "metadata": {
    "ExecuteTime": {
     "end_time": "2023-07-18T09:43:21.695265Z",
     "start_time": "2023-07-18T09:43:21.624205Z"
    }
   },
   "outputs": [],
   "source": [
    "user_rating_big['tree'] = user_rating_middle['trees']\n",
    "\n",
    "user_rating_big['datastructure'] = user_rating_middle['segtree'] \n",
    "user_rating_big['datastructure'] += user_rating_middle['stack']\n",
    "user_rating_big['datastructure'] += user_rating_middle['priority_queue']\n",
    "user_rating_big['datastructure'] += user_rating_middle['queue']\n",
    "user_rating_big['datastructure'] += user_rating_middle['priority_queue']\n",
    "user_rating_big['datastructure'] += user_rating_middle['deque']\n",
    "user_rating_big['datastructure'] += user_rating_middle['disjoint_set']\n",
    "user_rating_big['datastructure'] += user_rating_middle['two_pointer']\n",
    "\n",
    "user_rating_big['graph'] = user_rating_middle['graphs'] \n",
    "user_rating_big['graph'] += user_rating_middle['bfs']\n",
    "user_rating_big['graph'] += user_rating_middle['dfs']\n",
    "\n",
    "user_rating_big['hash'] = user_rating_middle['tree_set'] \n",
    "user_rating_big['hash'] += user_rating_middle['hashing']\n",
    "\n",
    "user_rating_big['search'] = user_rating_middle['binary_search']\n",
    "user_rating_big['search'] += user_rating_middle['ternary_search']\n",
    "user_rating_big['search'] += user_rating_middle['parametric_search']\n",
    "\n",
    "user_rating_big['dp'] = user_rating_middle['dp']\n",
    "user_rating_big['greedy'] = user_rating_middle['greedy']\n",
    "user_rating_big['math'] = user_rating_middle['math']\n",
    "\n",
    "user_rating_big['bruteforce'] = user_rating_middle['bruteforcing']\n",
    "user_rating_big['bruteforce'] += user_rating_middle['mitm']\n",
    "\n",
    "user_rating_big['recursion'] = user_rating_middle['recursion']\n",
    "user_rating_big['recursion'] += user_rating_middle['divide_and_conquer']\n",
    "\n",
    "user_rating_big['basics'] = user_rating_middle['sorting']\n",
    "user_rating_big['basics'] += user_rating_middle['implementation']\n",
    "user_rating_big['basics'] += user_rating_middle['string']"
   ]
  },
  {
   "cell_type": "code",
   "execution_count": 72,
   "id": "8b843696",
   "metadata": {
    "ExecuteTime": {
     "end_time": "2023-07-18T09:59:12.164695Z",
     "start_time": "2023-07-18T09:59:11.705008Z"
    }
   },
   "outputs": [],
   "source": [
    "user_rating_big.to_csv('./user_rating_big_ver1.csv',index=False)"
   ]
  },
  {
   "cell_type": "code",
   "execution_count": 77,
   "id": "08411b96",
   "metadata": {
    "ExecuteTime": {
     "end_time": "2023-07-18T10:04:21.991212Z",
     "start_time": "2023-07-18T10:04:21.913269Z"
    }
   },
   "outputs": [
    {
     "data": {
      "text/plain": [
       "<AxesSubplot:>"
      ]
     },
     "execution_count": 77,
     "metadata": {},
     "output_type": "execute_result"
    },
    {
     "data": {
      "image/png": "[encoded data removed]",
      "text/plain": [
       "<Figure size 432x288 with 1 Axes>"
      ]
     },
     "metadata": {
      "needs_background": "light"
     },
     "output_type": "display_data"
    }
   ],
   "source": [
    "user_rating_big.loc['ghwns82'].plot(kind='barh',color='red')\n",
    "# user_rating_big.loc['junhyuk1229'].plot(kind='bar',color='blue', alpha=0.5)"
   ]
  },
  {
   "cell_type": "code",
   "execution_count": 70,
   "id": "9b06bc51",
   "metadata": {
    "ExecuteTime": {
     "end_time": "2023-07-18T09:57:50.170526Z",
     "start_time": "2023-07-18T09:57:50.168964Z"
    }
   },
   "outputs": [],
   "source": [
    "# user_rating_big.loc['kkj9818']"
   ]
  }
 ],
 "metadata": {
  "kernelspec": {
   "display_name": "Python 3 (ipykernel)",
   "language": "python",
   "name": "python3"
  },
  "language_info": {
   "codemirror_mode": {
    "name": "ipython",
    "version": 3
   },
   "file_extension": ".py",
   "mimetype": "text/x-python",
   "name": "python",
   "nbconvert_exporter": "python",
   "pygments_lexer": "ipython3",
   "version": "3.10.6"
  },
  "toc": {
   "base_numbering": 1,
   "nav_menu": {},
   "number_sections": true,
   "sideBar": true,
   "skip_h1_title": false,
   "title_cell": "Table of Contents",
   "title_sidebar": "Contents",
   "toc_cell": false,
   "toc_position": {},
   "toc_section_display": true,
   "toc_window_display": true
  }
 },
 "nbformat": 4,
 "nbformat_minor": 5
}
